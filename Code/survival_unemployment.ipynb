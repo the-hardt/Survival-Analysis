{
  "nbformat": 4,
  "nbformat_minor": 0,
  "metadata": {
    "anaconda-cloud": {},
    "kernelspec": {
      "display_name": "Python 3",
      "language": "python",
      "name": "python3"
    },
    "language_info": {
      "codemirror_mode": {
        "name": "ipython",
        "version": 3
      },
      "file_extension": ".py",
      "mimetype": "text/x-python",
      "name": "python",
      "nbconvert_exporter": "python",
      "pygments_lexer": "ipython3",
      "version": "3.8.5"
    },
    "colab": {
      "provenance": [],
      "toc_visible": true
    }
  },
  "cells": [
    {
      "cell_type": "markdown",
      "metadata": {
        "id": "_6KHnL8E5mVm"
      },
      "source": [
        "# Survival Analysis\n",
        "-----------\n"
      ]
    },
    {
      "cell_type": "code",
      "metadata": {
        "id": "esoXMwup9ZbO"
      },
      "source": [
        "# ! pip install lifelines\n",
        "# ! pip install scikit-survival\n",
        "# ! pip install statsmodels"
      ],
      "execution_count": null,
      "outputs": []
    },
    {
      "cell_type": "code",
      "metadata": {
        "id": "-Jwm0XB26NKT"
      },
      "source": [
        "# import\n",
        "import pandas as pd\n",
        "import numpy as np\n",
        "import random\n",
        "import statsmodels.api as sm\n",
        "import itertools\n",
        "import operator\n",
        "import datetime as dt\n",
        "from itertools import product\n",
        "from tqdm import tqdm_notebook\n",
        "\n",
        "from lifelines import CoxPHFitter # ! pip install lifelines\n",
        "from sksurv.linear_model import CoxnetSurvivalAnalysis, CoxPHSurvivalAnalysis # ! pip install scikit-survival\n",
        "from lifelines import KaplanMeierFitter\n",
        "\n",
        "\n",
        "from pprint import PrettyPrinter\n",
        "pprint = PrettyPrinter().pprint\n",
        "import matplotlib.pyplot as plt\n",
        "%matplotlib inline\n",
        "import seaborn as sns\n",
        "sns.set()\n",
        "\n",
        "import warnings\n",
        "warnings.filterwarnings('ignore')"
      ],
      "execution_count": null,
      "outputs": []
    },
    {
      "cell_type": "markdown",
      "metadata": {
        "id": "x1z39Ixh5mVt"
      },
      "source": [
        "## Survival Analysis\n",
        "\n",
        "This problem uses the survival_unemployment.csv data.\n",
        "The dataset is exploring unemployment for 3300 affected individuals.  An event of 1 indicates that a person found a job after \"weeks\" search.  The remaining variables characterize the person and previous salary."
      ]
    },
    {
      "cell_type": "markdown",
      "metadata": {
        "id": "CHf2l9z05mVt"
      },
      "source": [
        "### Step 1\n",
        "\n",
        "Create a Kaplan-Meier plot of the raw data (no other variables).  Use this to answer what is the median time it takes for individuals to find a job."
      ]
    },
    {
      "cell_type": "code",
      "metadata": {
        "colab": {
          "base_uri": "https://localhost:8080/",
          "height": 238
        },
        "id": "gxb_ZHJd5mVu",
        "outputId": "d210d345-6dc4-4f96-81b3-32fef9057c14"
      },
      "source": [
        "# load data\n",
        "unempl_data = pd.read_csv('survival_unemployment.csv')\n",
        "print('Data set dimentions:', unempl_data.shape)\n",
        "print('Missing values: ',unempl_data.isnull().values.sum()) # check missing values\n",
        "unempl_data.head()"
      ],
      "execution_count": null,
      "outputs": [
        {
          "output_type": "stream",
          "name": "stdout",
          "text": [
            "Data set dimentions: (3300, 8)\n",
            "Missing values:  0\n"
          ]
        },
        {
          "output_type": "execute_result",
          "data": {
            "text/html": [
              "<div>\n",
              "<style scoped>\n",
              "    .dataframe tbody tr th:only-of-type {\n",
              "        vertical-align: middle;\n",
              "    }\n",
              "\n",
              "    .dataframe tbody tr th {\n",
              "        vertical-align: top;\n",
              "    }\n",
              "\n",
              "    .dataframe thead th {\n",
              "        text-align: right;\n",
              "    }\n",
              "</style>\n",
              "<table border=\"1\" class=\"dataframe\">\n",
              "  <thead>\n",
              "    <tr style=\"text-align: right;\">\n",
              "      <th></th>\n",
              "      <th>weeks</th>\n",
              "      <th>event</th>\n",
              "      <th>age</th>\n",
              "      <th>logsalary</th>\n",
              "      <th>married</th>\n",
              "      <th>isfemale</th>\n",
              "      <th>hasChildren</th>\n",
              "      <th>caucasian</th>\n",
              "    </tr>\n",
              "  </thead>\n",
              "  <tbody>\n",
              "    <tr>\n",
              "      <th>0</th>\n",
              "      <td>5</td>\n",
              "      <td>1</td>\n",
              "      <td>41</td>\n",
              "      <td>6.843981</td>\n",
              "      <td>1</td>\n",
              "      <td>0</td>\n",
              "      <td>1</td>\n",
              "      <td>1</td>\n",
              "    </tr>\n",
              "    <tr>\n",
              "      <th>1</th>\n",
              "      <td>13</td>\n",
              "      <td>1</td>\n",
              "      <td>30</td>\n",
              "      <td>5.429075</td>\n",
              "      <td>1</td>\n",
              "      <td>0</td>\n",
              "      <td>1</td>\n",
              "      <td>1</td>\n",
              "    </tr>\n",
              "    <tr>\n",
              "      <th>2</th>\n",
              "      <td>20</td>\n",
              "      <td>1</td>\n",
              "      <td>36</td>\n",
              "      <td>6.862836</td>\n",
              "      <td>0</td>\n",
              "      <td>0</td>\n",
              "      <td>0</td>\n",
              "      <td>1</td>\n",
              "    </tr>\n",
              "    <tr>\n",
              "      <th>3</th>\n",
              "      <td>3</td>\n",
              "      <td>1</td>\n",
              "      <td>26</td>\n",
              "      <td>5.843073</td>\n",
              "      <td>1</td>\n",
              "      <td>0</td>\n",
              "      <td>1</td>\n",
              "      <td>0</td>\n",
              "    </tr>\n",
              "    <tr>\n",
              "      <th>4</th>\n",
              "      <td>8</td>\n",
              "      <td>0</td>\n",
              "      <td>22</td>\n",
              "      <td>6.292216</td>\n",
              "      <td>0</td>\n",
              "      <td>0</td>\n",
              "      <td>0</td>\n",
              "      <td>1</td>\n",
              "    </tr>\n",
              "  </tbody>\n",
              "</table>\n",
              "</div>"
            ],
            "text/plain": [
              "   weeks  event  age  logsalary  married  isfemale  hasChildren  caucasian\n",
              "0      5      1   41   6.843981        1         0            1          1\n",
              "1     13      1   30   5.429075        1         0            1          1\n",
              "2     20      1   36   6.862836        0         0            0          1\n",
              "3      3      1   26   5.843073        1         0            1          0\n",
              "4      8      0   22   6.292216        0         0            0          1"
            ]
          },
          "metadata": {},
          "execution_count": 158
        }
      ]
    },
    {
      "cell_type": "code",
      "metadata": {
        "colab": {
          "base_uri": "https://localhost:8080/",
          "height": 451
        },
        "id": "yME95FrN7oUy",
        "outputId": "82283004-8ebd-4393-e4c1-f62bf3ea02c7"
      },
      "source": [
        "# Kaplan-Meier plot\n",
        "kmf = KaplanMeierFitter()\n",
        "T = unempl_data['weeks']\n",
        "C = unempl_data['event']\n",
        "kmf.fit(T,C);\n",
        "\n",
        "fig, ax = plt.subplots(figsize=(12,6))\n",
        "kmf.plot(at_risk_counts=True)\n",
        "plt.title('Unemployed Time (weeks) vs. probability find a job', fontsize=15)\n",
        "ax.set_ylabel('probability')\n",
        "ax.grid(b=True)"
      ],
      "execution_count": null,
      "outputs": [
        {
          "output_type": "display_data",
          "data": {
            "image/png": "[encoded data removed]",
            "text/plain": [
              "<Figure size 864x432 with 2 Axes>"
            ]
          },
          "metadata": {}
        }
      ]
    },
    {
      "cell_type": "markdown",
      "metadata": {
        "id": "GEpgBU4eM-JU"
      },
      "source": [
        "From the plot, we see that probability at time zero is almost 1.0, and it appears that not 100% of the participants were unemloyed at time zero. The column \"event\" indicates that some of the partisipants were employed at week 0. We see that 3,044 out of 3,300 participants are \"at risk\" (112 were censored and 144 found a job). We will assume that all were unemployed at the start, and censoring and event occured right after the start."
      ]
    },
    {
      "cell_type": "markdown",
      "metadata": {
        "id": "mlGioJVM0iPf"
      },
      "source": [
        "The median time it takes for individual to find a job is the point in time in which on average 50% of individuals have found a job.   \n",
        "From plot observation we see that the median is 15 weeks of search.  "
      ]
    },
    {
      "cell_type": "code",
      "metadata": {
        "colab": {
          "base_uri": "https://localhost:8080/"
        },
        "id": "Nl2WO5x4_aXQ",
        "outputId": "3e16e7e8-4840-4b43-bc4f-06705dc71ac2"
      },
      "source": [
        "# to check if our observed estimation is correct\n",
        "kmf.median_survival_time_"
      ],
      "execution_count": null,
      "outputs": [
        {
          "output_type": "execute_result",
          "data": {
            "text/plain": [
              "15.0"
            ]
          },
          "metadata": {},
          "execution_count": 160
        }
      ]
    },
    {
      "cell_type": "markdown",
      "metadata": {
        "id": "woovLNeQ5mVu"
      },
      "source": [
        "### Step 2\n",
        "\n",
        "Some say that married folks have an easier time finding work.  Create a Kaplan-Meier plot and interpret the difference in duration (which group and by how many weeks) for the first 25% that find work."
      ]
    },
    {
      "cell_type": "code",
      "metadata": {
        "colab": {
          "base_uri": "https://localhost:8080/",
          "height": 412
        },
        "id": "mxX3lVJ95mVv",
        "outputId": "81cdf92d-2f63-4fb5-facc-d219aacb9519"
      },
      "source": [
        "#Breaking it down by Married/Unmarried\n",
        "fig, ax = plt.subplots(figsize=(12,6))\n",
        "\n",
        "labels = ['married','unmarried'] # maried=1, unmarried=0\n",
        "tick_spacing = 0.1\n",
        "\n",
        "plt.title('Unemployed Time (weeks) vs. probability find a job', fontsize=15)\n",
        "ax.set_ylabel('probability')\n",
        "for r in unempl_data['married'].unique():\n",
        "    ix = unempl_data[unempl_data['married']==r].index\n",
        "    kmf.fit(T[ix], C[ix], label=labels[r-1])\n",
        "    kmf.plot(ax=ax)\n",
        "\n",
        "ax.yaxis.set_major_locator(ticker.MultipleLocator(tick_spacing))\n",
        "ax.grid(b=True)"
      ],
      "execution_count": null,
      "outputs": [
        {
          "output_type": "display_data",
          "data": {
            "image/png": "[encoded data removed]",
            "text/plain": [
              "<Figure size 864x432 with 1 Axes>"
            ]
          },
          "metadata": {}
        }
      ]
    },
    {
      "cell_type": "markdown",
      "metadata": {
        "id": "PgDES-_JAHTg"
      },
      "source": [
        "As we assumed that no one was employed at the start, our checkpoint roughly at 75% as it's 25% from the starting point.   \n",
        "Difference in duration for the first 25% that find a job for each group:\n",
        "married - about 4 weeks, unmarried - about 6 weeks."
      ]
    },
    {
      "cell_type": "markdown",
      "metadata": {
        "id": "wFQXokgv5mVw"
      },
      "source": [
        "### Step 3 Cox PH Model\n",
        "\n",
        "Iterate on the Cox Proportional Hazards Model to identify the set of features (age, logsalary, married, isfemale, hasChildren, caucasian).\n"
      ]
    },
    {
      "cell_type": "code",
      "metadata": {
        "colab": {
          "base_uri": "https://localhost:8080/",
          "height": 624
        },
        "id": "KkvdPHE_5mVw",
        "outputId": "20f6b101-e61d-4606-fc59-58c8b34bdede"
      },
      "source": [
        "cph = CoxPHFitter()\n",
        "cph.fit(unempl_data, duration_col='weeks', event_col='event')\n",
        "cph.print_summary()"
      ],
      "execution_count": null,
      "outputs": [
        {
          "output_type": "display_data",
          "data": {
            "text/latex": "\\begin{tabular}{lrrrrrrrrrr}\n\\toprule\n{} &  coef &  exp(coef) &  se(coef) &  coef lower 95\\% &  coef upper 95\\% &  exp(coef) lower 95\\% &  exp(coef) upper 95\\% &     z &    p &  -log2(p) \\\\\ncovariate   &       &            &           &                 &                 &                      &                      &       &      &           \\\\\n\\midrule\nage         & -0.02 &       0.98 &      0.00 &           -0.03 &           -0.01 &                 0.97 &                 0.99 & -6.17 & 0.00 &     30.46 \\\\\nlogsalary   &  0.30 &       1.35 &      0.06 &            0.18 &            0.42 &                 1.20 &                 1.53 &  4.82 & 0.00 &     19.41 \\\\\nmarried     &  0.28 &       1.32 &      0.07 &            0.13 &            0.42 &                 1.14 &                 1.53 &  3.76 & 0.00 &     12.54 \\\\\nisfemale    &  0.11 &       1.11 &      0.07 &           -0.03 &            0.24 &                 0.98 &                 1.27 &  1.59 & 0.11 &      3.16 \\\\\nhasChildren & -0.08 &       0.93 &      0.07 &           -0.21 &            0.06 &                 0.81 &                 1.06 & -1.10 & 0.27 &      1.89 \\\\\ncaucasian   &  0.58 &       1.79 &      0.11 &            0.37 &            0.80 &                 1.44 &                 2.22 &  5.32 & 0.00 &     23.20 \\\\\n\\bottomrule\n\\end{tabular}\n",
            "text/html": [
              "<div>\n",
              "<style scoped>\n",
              "    .dataframe tbody tr th:only-of-type {\n",
              "        vertical-align: middle;\n",
              "    }\n",
              "\n",
              "    .dataframe tbody tr th {\n",
              "        vertical-align: top;\n",
              "    }\n",
              "\n",
              "    .dataframe thead th {\n",
              "        text-align: right;\n",
              "    }\n",
              "</style>\n",
              "<table border=\"1\" class=\"dataframe\">\n",
              "  <tbody>\n",
              "    <tr>\n",
              "      <th>model</th>\n",
              "      <td>lifelines.CoxPHFitter</td>\n",
              "    </tr>\n",
              "    <tr>\n",
              "      <th>duration col</th>\n",
              "      <td>'weeks'</td>\n",
              "    </tr>\n",
              "    <tr>\n",
              "      <th>event col</th>\n",
              "      <td>'event'</td>\n",
              "    </tr>\n",
              "    <tr>\n",
              "      <th>baseline estimation</th>\n",
              "      <td>breslow</td>\n",
              "    </tr>\n",
              "    <tr>\n",
              "      <th>number of observations</th>\n",
              "      <td>3300</td>\n",
              "    </tr>\n",
              "    <tr>\n",
              "      <th>number of events observed</th>\n",
              "      <td>1062</td>\n",
              "    </tr>\n",
              "    <tr>\n",
              "      <th>partial log-likelihood</th>\n",
              "      <td>-7793.61</td>\n",
              "    </tr>\n",
              "    <tr>\n",
              "      <th>time fit was run</th>\n",
              "      <td>2021-11-01 21:03:04 UTC</td>\n",
              "    </tr>\n",
              "  </tbody>\n",
              "</table>\n",
              "</div><table border=\"1\" class=\"dataframe\">\n",
              "  <thead>\n",
              "    <tr style=\"text-align: right;\">\n",
              "      <th style=\"min-width: 12px;\"></th>\n",
              "      <th style=\"min-width: 12px;\">coef</th>\n",
              "      <th style=\"min-width: 12px;\">exp(coef)</th>\n",
              "      <th style=\"min-width: 12px;\">se(coef)</th>\n",
              "      <th style=\"min-width: 12px;\">coef lower 95%</th>\n",
              "      <th style=\"min-width: 12px;\">coef upper 95%</th>\n",
              "      <th style=\"min-width: 12px;\">exp(coef) lower 95%</th>\n",
              "      <th style=\"min-width: 12px;\">exp(coef) upper 95%</th>\n",
              "      <th style=\"min-width: 12px;\">z</th>\n",
              "      <th style=\"min-width: 12px;\">p</th>\n",
              "      <th style=\"min-width: 12px;\">-log2(p)</th>\n",
              "    </tr>\n",
              "  </thead>\n",
              "  <tbody>\n",
              "    <tr>\n",
              "      <th>age</th>\n",
              "      <td>-0.02</td>\n",
              "      <td>0.98</td>\n",
              "      <td>0.00</td>\n",
              "      <td>-0.03</td>\n",
              "      <td>-0.01</td>\n",
              "      <td>0.97</td>\n",
              "      <td>0.99</td>\n",
              "      <td>-6.17</td>\n",
              "      <td>&lt;0.005</td>\n",
              "      <td>30.46</td>\n",
              "    </tr>\n",
              "    <tr>\n",
              "      <th>logsalary</th>\n",
              "      <td>0.30</td>\n",
              "      <td>1.35</td>\n",
              "      <td>0.06</td>\n",
              "      <td>0.18</td>\n",
              "      <td>0.42</td>\n",
              "      <td>1.20</td>\n",
              "      <td>1.53</td>\n",
              "      <td>4.82</td>\n",
              "      <td>&lt;0.005</td>\n",
              "      <td>19.41</td>\n",
              "    </tr>\n",
              "    <tr>\n",
              "      <th>married</th>\n",
              "      <td>0.28</td>\n",
              "      <td>1.32</td>\n",
              "      <td>0.07</td>\n",
              "      <td>0.13</td>\n",
              "      <td>0.42</td>\n",
              "      <td>1.14</td>\n",
              "      <td>1.53</td>\n",
              "      <td>3.76</td>\n",
              "      <td>&lt;0.005</td>\n",
              "      <td>12.54</td>\n",
              "    </tr>\n",
              "    <tr>\n",
              "      <th>isfemale</th>\n",
              "      <td>0.11</td>\n",
              "      <td>1.11</td>\n",
              "      <td>0.07</td>\n",
              "      <td>-0.03</td>\n",
              "      <td>0.24</td>\n",
              "      <td>0.98</td>\n",
              "      <td>1.27</td>\n",
              "      <td>1.59</td>\n",
              "      <td>0.11</td>\n",
              "      <td>3.16</td>\n",
              "    </tr>\n",
              "    <tr>\n",
              "      <th>hasChildren</th>\n",
              "      <td>-0.08</td>\n",
              "      <td>0.93</td>\n",
              "      <td>0.07</td>\n",
              "      <td>-0.21</td>\n",
              "      <td>0.06</td>\n",
              "      <td>0.81</td>\n",
              "      <td>1.06</td>\n",
              "      <td>-1.10</td>\n",
              "      <td>0.27</td>\n",
              "      <td>1.89</td>\n",
              "    </tr>\n",
              "    <tr>\n",
              "      <th>caucasian</th>\n",
              "      <td>0.58</td>\n",
              "      <td>1.79</td>\n",
              "      <td>0.11</td>\n",
              "      <td>0.37</td>\n",
              "      <td>0.80</td>\n",
              "      <td>1.44</td>\n",
              "      <td>2.22</td>\n",
              "      <td>5.32</td>\n",
              "      <td>&lt;0.005</td>\n",
              "      <td>23.20</td>\n",
              "    </tr>\n",
              "  </tbody>\n",
              "</table><br><div>\n",
              "<style scoped>\n",
              "    .dataframe tbody tr th:only-of-type {\n",
              "        vertical-align: middle;\n",
              "    }\n",
              "\n",
              "    .dataframe tbody tr th {\n",
              "        vertical-align: top;\n",
              "    }\n",
              "\n",
              "    .dataframe thead th {\n",
              "        text-align: right;\n",
              "    }\n",
              "</style>\n",
              "<table border=\"1\" class=\"dataframe\">\n",
              "  <tbody>\n",
              "    <tr>\n",
              "      <th>Concordance</th>\n",
              "      <td>0.59</td>\n",
              "    </tr>\n",
              "    <tr>\n",
              "      <th>Partial AIC</th>\n",
              "      <td>15599.21</td>\n",
              "    </tr>\n",
              "    <tr>\n",
              "      <th>log-likelihood ratio test</th>\n",
              "      <td>107.37 on 6 df</td>\n",
              "    </tr>\n",
              "    <tr>\n",
              "      <th>-log2(p) of ll-ratio test</th>\n",
              "      <td>66.91</td>\n",
              "    </tr>\n",
              "  </tbody>\n",
              "</table>\n",
              "</div>"
            ],
            "text/plain": [
              "<lifelines.CoxPHFitter: fitted with 3300 total observations, 2238 right-censored observations>\n",
              "             duration col = 'weeks'\n",
              "                event col = 'event'\n",
              "      baseline estimation = breslow\n",
              "   number of observations = 3300\n",
              "number of events observed = 1062\n",
              "   partial log-likelihood = -7793.61\n",
              "         time fit was run = 2021-11-01 21:03:04 UTC\n",
              "\n",
              "---\n",
              "              coef  exp(coef)   se(coef)   coef lower 95%   coef upper 95%  exp(coef) lower 95%  exp(coef) upper 95%\n",
              "covariate                                                                                                           \n",
              "age          -0.02       0.98       0.00            -0.03            -0.01                 0.97                 0.99\n",
              "logsalary     0.30       1.35       0.06             0.18             0.42                 1.20                 1.53\n",
              "married       0.28       1.32       0.07             0.13             0.42                 1.14                 1.53\n",
              "isfemale      0.11       1.11       0.07            -0.03             0.24                 0.98                 1.27\n",
              "hasChildren  -0.08       0.93       0.07            -0.21             0.06                 0.81                 1.06\n",
              "caucasian     0.58       1.79       0.11             0.37             0.80                 1.44                 2.22\n",
              "\n",
              "                z      p   -log2(p)\n",
              "covariate                          \n",
              "age         -6.17 <0.005      30.46\n",
              "logsalary    4.82 <0.005      19.41\n",
              "married      3.76 <0.005      12.54\n",
              "isfemale     1.59   0.11       3.16\n",
              "hasChildren -1.10   0.27       1.89\n",
              "caucasian    5.32 <0.005      23.20\n",
              "---\n",
              "Concordance = 0.59\n",
              "Partial AIC = 15599.21\n",
              "log-likelihood ratio test = 107.37 on 6 df\n",
              "-log2(p) of ll-ratio test = 66.91"
            ]
          },
          "metadata": {}
        }
      ]
    },
    {
      "cell_type": "markdown",
      "metadata": {
        "id": "S3z_M2StTa0t"
      },
      "source": [
        "We see that \"isfemale\" and \"hasChildren\" have very large p-values (>0.05), that inicates their statistical insignificance. We will remove feature with the largest p-value."
      ]
    },
    {
      "cell_type": "code",
      "metadata": {
        "colab": {
          "base_uri": "https://localhost:8080/"
        },
        "id": "7eYSjUxVUY7b",
        "outputId": "004b4360-28fe-49cc-ae13-17ef281f57fa"
      },
      "source": [
        "features = ['weeks', 'event', 'age', 'logsalary', 'isfemale', 'married',  'caucasian'] #  'hasChildren' removed\n",
        "cph2 = CoxPHFitter()\n",
        "cph2.fit(unempl_data[features], duration_col='weeks', event_col='event')\n",
        "cph2.params_"
      ],
      "execution_count": null,
      "outputs": [
        {
          "output_type": "execute_result",
          "data": {
            "text/plain": [
              "covariate\n",
              "age         -0.019090\n",
              "logsalary    0.301381\n",
              "isfemale     0.106014\n",
              "married      0.241920\n",
              "caucasian    0.592136\n",
              "Name: coef, dtype: float64"
            ]
          },
          "metadata": {},
          "execution_count": 175
        }
      ]
    },
    {
      "cell_type": "markdown",
      "metadata": {
        "id": "BUWhfRXyWdPH"
      },
      "source": [
        "We see that coeficients got ajusted, that means the effect of the change in each feature will have a slightly different affect on the outcome."
      ]
    },
    {
      "cell_type": "code",
      "metadata": {
        "colab": {
          "base_uri": "https://localhost:8080/",
          "height": 562
        },
        "id": "_x7huGMLW5tg",
        "outputId": "0b2bbc92-9cf6-456e-a813-b13345e396b3"
      },
      "source": [
        "features = ['weeks', 'event', 'age', 'logsalary',  'married',  'caucasian'] #  'isfemale' removed\n",
        "cph3 = CoxPHFitter()\n",
        "cph3.fit(unempl_data[features], duration_col='weeks', event_col='event')\n",
        "cph3.print_summary()"
      ],
      "execution_count": null,
      "outputs": [
        {
          "output_type": "display_data",
          "data": {
            "text/latex": "\\begin{tabular}{lrrrrrrrrrr}\n\\toprule\n{} &  coef &  exp(coef) &  se(coef) &  coef lower 95\\% &  coef upper 95\\% &  exp(coef) lower 95\\% &  exp(coef) upper 95\\% &     z &    p &  -log2(p) \\\\\ncovariate &       &            &           &                 &                 &                      &                      &       &      &           \\\\\n\\midrule\nage       & -0.02 &       0.98 &      0.00 &           -0.02 &           -0.01 &                 0.98 &                 0.99 & -5.96 & 0.00 &     28.52 \\\\\nlogsalary &  0.27 &       1.31 &      0.06 &            0.16 &            0.39 &                 1.17 &                 1.48 &  4.58 & 0.00 &     17.70 \\\\\nmarried   &  0.24 &       1.27 &      0.07 &            0.11 &            0.37 &                 1.11 &                 1.45 &  3.59 & 0.00 &     11.58 \\\\\ncaucasian &  0.59 &       1.81 &      0.11 &            0.38 &            0.81 &                 1.46 &                 2.24 &  5.44 & 0.00 &     24.14 \\\\\n\\bottomrule\n\\end{tabular}\n",
            "text/html": [
              "<div>\n",
              "<style scoped>\n",
              "    .dataframe tbody tr th:only-of-type {\n",
              "        vertical-align: middle;\n",
              "    }\n",
              "\n",
              "    .dataframe tbody tr th {\n",
              "        vertical-align: top;\n",
              "    }\n",
              "\n",
              "    .dataframe thead th {\n",
              "        text-align: right;\n",
              "    }\n",
              "</style>\n",
              "<table border=\"1\" class=\"dataframe\">\n",
              "  <tbody>\n",
              "    <tr>\n",
              "      <th>model</th>\n",
              "      <td>lifelines.CoxPHFitter</td>\n",
              "    </tr>\n",
              "    <tr>\n",
              "      <th>duration col</th>\n",
              "      <td>'weeks'</td>\n",
              "    </tr>\n",
              "    <tr>\n",
              "      <th>event col</th>\n",
              "      <td>'event'</td>\n",
              "    </tr>\n",
              "    <tr>\n",
              "      <th>baseline estimation</th>\n",
              "      <td>breslow</td>\n",
              "    </tr>\n",
              "    <tr>\n",
              "      <th>number of observations</th>\n",
              "      <td>3300</td>\n",
              "    </tr>\n",
              "    <tr>\n",
              "      <th>number of events observed</th>\n",
              "      <td>1062</td>\n",
              "    </tr>\n",
              "    <tr>\n",
              "      <th>partial log-likelihood</th>\n",
              "      <td>-7795.42</td>\n",
              "    </tr>\n",
              "    <tr>\n",
              "      <th>time fit was run</th>\n",
              "      <td>2021-11-01 21:16:26 UTC</td>\n",
              "    </tr>\n",
              "  </tbody>\n",
              "</table>\n",
              "</div><table border=\"1\" class=\"dataframe\">\n",
              "  <thead>\n",
              "    <tr style=\"text-align: right;\">\n",
              "      <th style=\"min-width: 12px;\"></th>\n",
              "      <th style=\"min-width: 12px;\">coef</th>\n",
              "      <th style=\"min-width: 12px;\">exp(coef)</th>\n",
              "      <th style=\"min-width: 12px;\">se(coef)</th>\n",
              "      <th style=\"min-width: 12px;\">coef lower 95%</th>\n",
              "      <th style=\"min-width: 12px;\">coef upper 95%</th>\n",
              "      <th style=\"min-width: 12px;\">exp(coef) lower 95%</th>\n",
              "      <th style=\"min-width: 12px;\">exp(coef) upper 95%</th>\n",
              "      <th style=\"min-width: 12px;\">z</th>\n",
              "      <th style=\"min-width: 12px;\">p</th>\n",
              "      <th style=\"min-width: 12px;\">-log2(p)</th>\n",
              "    </tr>\n",
              "  </thead>\n",
              "  <tbody>\n",
              "    <tr>\n",
              "      <th>age</th>\n",
              "      <td>-0.02</td>\n",
              "      <td>0.98</td>\n",
              "      <td>0.00</td>\n",
              "      <td>-0.02</td>\n",
              "      <td>-0.01</td>\n",
              "      <td>0.98</td>\n",
              "      <td>0.99</td>\n",
              "      <td>-5.96</td>\n",
              "      <td>&lt;0.005</td>\n",
              "      <td>28.52</td>\n",
              "    </tr>\n",
              "    <tr>\n",
              "      <th>logsalary</th>\n",
              "      <td>0.27</td>\n",
              "      <td>1.31</td>\n",
              "      <td>0.06</td>\n",
              "      <td>0.16</td>\n",
              "      <td>0.39</td>\n",
              "      <td>1.17</td>\n",
              "      <td>1.48</td>\n",
              "      <td>4.58</td>\n",
              "      <td>&lt;0.005</td>\n",
              "      <td>17.70</td>\n",
              "    </tr>\n",
              "    <tr>\n",
              "      <th>married</th>\n",
              "      <td>0.24</td>\n",
              "      <td>1.27</td>\n",
              "      <td>0.07</td>\n",
              "      <td>0.11</td>\n",
              "      <td>0.37</td>\n",
              "      <td>1.11</td>\n",
              "      <td>1.45</td>\n",
              "      <td>3.59</td>\n",
              "      <td>&lt;0.005</td>\n",
              "      <td>11.58</td>\n",
              "    </tr>\n",
              "    <tr>\n",
              "      <th>caucasian</th>\n",
              "      <td>0.59</td>\n",
              "      <td>1.81</td>\n",
              "      <td>0.11</td>\n",
              "      <td>0.38</td>\n",
              "      <td>0.81</td>\n",
              "      <td>1.46</td>\n",
              "      <td>2.24</td>\n",
              "      <td>5.44</td>\n",
              "      <td>&lt;0.005</td>\n",
              "      <td>24.14</td>\n",
              "    </tr>\n",
              "  </tbody>\n",
              "</table><br><div>\n",
              "<style scoped>\n",
              "    .dataframe tbody tr th:only-of-type {\n",
              "        vertical-align: middle;\n",
              "    }\n",
              "\n",
              "    .dataframe tbody tr th {\n",
              "        vertical-align: top;\n",
              "    }\n",
              "\n",
              "    .dataframe thead th {\n",
              "        text-align: right;\n",
              "    }\n",
              "</style>\n",
              "<table border=\"1\" class=\"dataframe\">\n",
              "  <tbody>\n",
              "    <tr>\n",
              "      <th>Concordance</th>\n",
              "      <td>0.59</td>\n",
              "    </tr>\n",
              "    <tr>\n",
              "      <th>Partial AIC</th>\n",
              "      <td>15598.84</td>\n",
              "    </tr>\n",
              "    <tr>\n",
              "      <th>log-likelihood ratio test</th>\n",
              "      <td>103.74 on 4 df</td>\n",
              "    </tr>\n",
              "    <tr>\n",
              "      <th>-log2(p) of ll-ratio test</th>\n",
              "      <td>69.11</td>\n",
              "    </tr>\n",
              "  </tbody>\n",
              "</table>\n",
              "</div>"
            ],
            "text/plain": [
              "<lifelines.CoxPHFitter: fitted with 3300 total observations, 2238 right-censored observations>\n",
              "             duration col = 'weeks'\n",
              "                event col = 'event'\n",
              "      baseline estimation = breslow\n",
              "   number of observations = 3300\n",
              "number of events observed = 1062\n",
              "   partial log-likelihood = -7795.42\n",
              "         time fit was run = 2021-11-01 21:16:26 UTC\n",
              "\n",
              "---\n",
              "            coef  exp(coef)   se(coef)   coef lower 95%   coef upper 95%  exp(coef) lower 95%  exp(coef) upper 95%\n",
              "covariate                                                                                                         \n",
              "age        -0.02       0.98       0.00            -0.02            -0.01                 0.98                 0.99\n",
              "logsalary   0.27       1.31       0.06             0.16             0.39                 1.17                 1.48\n",
              "married     0.24       1.27       0.07             0.11             0.37                 1.11                 1.45\n",
              "caucasian   0.59       1.81       0.11             0.38             0.81                 1.46                 2.24\n",
              "\n",
              "              z      p   -log2(p)\n",
              "covariate                        \n",
              "age       -5.96 <0.005      28.52\n",
              "logsalary  4.58 <0.005      17.70\n",
              "married    3.59 <0.005      11.58\n",
              "caucasian  5.44 <0.005      24.14\n",
              "---\n",
              "Concordance = 0.59\n",
              "Partial AIC = 15598.84\n",
              "log-likelihood ratio test = 103.74 on 4 df\n",
              "-log2(p) of ll-ratio test = 69.11"
            ]
          },
          "metadata": {}
        }
      ]
    },
    {
      "cell_type": "markdown",
      "metadata": {
        "id": "cThwu3JEXs23"
      },
      "source": [
        "We see that all features are statistically significant for the model.   \n",
        "Fr example, \"age\" has a coefficient of -0.02. it the least significant feature. A one unit (1 year) increase in this factor means the the baseline hazard will decrease by a factor of exp(-0.2)=0.98 - about a 2% decrease. Cox proportional hazard model, a higher hazard means more at risk of the event occurring."
      ]
    },
    {
      "cell_type": "code",
      "metadata": {
        "colab": {
          "base_uri": "https://localhost:8080/",
          "height": 285
        },
        "id": "2vFVEkt4SUnl",
        "outputId": "0862d31e-b12b-4458-97a3-d087399881b0"
      },
      "source": [
        "fig, ax = plt.subplots(figsize=(12,4));\n",
        "cph.plot(ax=ax)\n",
        "plt.show()"
      ],
      "execution_count": null,
      "outputs": [
        {
          "output_type": "display_data",
          "data": {
            "image/png": "[encoded data removed]",
            "text/plain": [
              "<Figure size 864x288 with 1 Axes>"
            ]
          },
          "metadata": {}
        }
      ]
    },
    {
      "cell_type": "markdown",
      "metadata": {
        "id": "8MUbyyea5mVx"
      },
      "source": [
        "### Ste 3 Examination of the results"
      ]
    },
    {
      "cell_type": "markdown",
      "metadata": {
        "id": "KCgq-WGV5mVx"
      },
      "source": [
        "#### Which feature has the most impact on the predicted duration?"
      ]
    },
    {
      "cell_type": "markdown",
      "metadata": {
        "id": "JSOX8slzeZ6p"
      },
      "source": [
        "The most significant feature is \"caucasian\" factor (whether the subject is caucasian or not). The values in the \"caucasian\" are binary: 0 or 1. The value of the coefficient associated with \"caucasian\", exp(0.59), is the value of ratio of hazards associated with being \"caucasian\", that is:  \n",
        "$$\n",
        "exp(0.59)= \\frac{hazard\\ of\\ caucasian\\ subjects\\ at\\ time\\ t}{hazard\\ of\\ not caucasian\\ subjects\\ at\\ time\\ t}$$  \n",
        "that is exp(0.59) = 1.8 - or about the baseline hazard will increase by about 80%, if partisipant is caucasian."
      ]
    },
    {
      "cell_type": "code",
      "metadata": {
        "colab": {
          "base_uri": "https://localhost:8080/"
        },
        "id": "_U43bS4d5mVz",
        "outputId": "79f5bd75-6321-46a9-ff3e-10b25d7b460a"
      },
      "source": [
        "cph3.params_"
      ],
      "execution_count": null,
      "outputs": [
        {
          "output_type": "execute_result",
          "data": {
            "text/plain": [
              "covariate\n",
              "age         -0.018735\n",
              "logsalary    0.273023\n",
              "married      0.238326\n",
              "caucasian    0.593780\n",
              "Name: coef, dtype: float64"
            ]
          },
          "metadata": {},
          "execution_count": 181
        }
      ]
    },
    {
      "cell_type": "markdown",
      "metadata": {
        "id": "L2HPCJjK5mVz"
      },
      "source": [
        "#### How much does this feature change the predicted duration of unemployment?"
      ]
    },
    {
      "cell_type": "markdown",
      "metadata": {
        "id": "On_WCTHLf3qf"
      },
      "source": [
        "by about 80% (exp(0.59)=1.8) the duartion to fins a job (from the base hazard) will be decreased if a person is identified as caucasian.   \n",
        "A higher hazard means more at risk of the event occurring."
      ]
    },
    {
      "cell_type": "markdown",
      "metadata": {
        "id": "38oZKyBR5mVz"
      },
      "source": [
        "#### Does it increase or decrease the predicted duration?"
      ]
    },
    {
      "cell_type": "markdown",
      "metadata": {
        "id": "opn-zs8UjQMO"
      },
      "source": [
        "It has higher risk of event (employment) to be occure, which decrese the duration of unemployment."
      ]
    },
    {
      "cell_type": "code",
      "metadata": {
        "id": "N0GvW52p5mV0"
      },
      "source": [],
      "execution_count": null,
      "outputs": []
    }
  ]
}